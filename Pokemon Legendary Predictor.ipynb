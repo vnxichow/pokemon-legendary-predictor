{
 "cells": [
  {
   "cell_type": "markdown",
   "metadata": {},
   "source": [
    "# Pokemon Legendary Predictor\n",
    "\n",
    "This is a brief notebook detailing the implementation of a neural network built in Keras, a Python deep learning library, that aims to predict a pokemon's status as legendary or not (a binary classification problem) from a pokemon's in-game base stat values."
   ]
  },
  {
   "cell_type": "code",
   "execution_count": 1,
   "metadata": {},
   "outputs": [
    {
     "name": "stderr",
     "output_type": "stream",
     "text": [
      "Using TensorFlow backend.\n",
      "/home/vnxiclaire/anaconda3/lib/python3.6/importlib/_bootstrap.py:205: RuntimeWarning: compiletime version 3.5 of module 'tensorflow.python.framework.fast_tensor_util' does not match runtime version 3.6\n",
      "  return f(*args, **kwds)\n"
     ]
    }
   ],
   "source": [
    "from keras.models import Sequential\n",
    "from keras.layers import Dense, Activation, Flatten\n",
    "from sklearn.model_selection import train_test_split\n",
    "import pandas as pd\n",
    "from keras import optimizers\n",
    "import numpy as np\n",
    "from keras.wrappers.scikit_learn import KerasClassifier\n",
    "from sklearn.model_selection import cross_val_score\n",
    "from sklearn.model_selection import StratifiedKFold\n",
    "\n",
    "\n",
    "# Read the data in\n",
    "poke_data = pd.read_csv(\"pokemon.csv\")\n"
   ]
  },
  {
   "cell_type": "code",
   "execution_count": 9,
   "metadata": {},
   "outputs": [
    {
     "data": {
      "text/plain": [
       "Index(['abilities', 'against_bug', 'against_dark', 'against_dragon',\n",
       "       'against_electric', 'against_fairy', 'against_fight', 'against_fire',\n",
       "       'against_flying', 'against_ghost', 'against_grass', 'against_ground',\n",
       "       'against_ice', 'against_normal', 'against_poison', 'against_psychic',\n",
       "       'against_rock', 'against_steel', 'against_water', 'attack',\n",
       "       'base_egg_steps', 'base_happiness', 'base_total', 'capture_rate',\n",
       "       'classfication', 'defense', 'experience_growth', 'height_m', 'hp',\n",
       "       'japanese_name', 'name', 'percentage_male', 'pokedex_number',\n",
       "       'sp_attack', 'sp_defense', 'speed', 'type1', 'type2', 'weight_kg',\n",
       "       'generation', 'is_legendary'],\n",
       "      dtype='object')"
      ]
     },
     "execution_count": 9,
     "metadata": {},
     "output_type": "execute_result"
    }
   ],
   "source": [
    "# Look at the columns\n",
    "poke_data.columns"
   ]
  },
  {
   "cell_type": "code",
   "execution_count": 3,
   "metadata": {},
   "outputs": [],
   "source": [
    "# TODO: dummify the types so they can go into the net as well\n",
    "\n",
    "#types = pd.get_dummies(poke_data[\"type1\"])\n",
    "#types2 = pd.get_dummies(poke_data[\"type2\"])\n",
    "#types2.columns = [x + \"2\" for x in types2]"
   ]
  },
  {
   "cell_type": "code",
   "execution_count": null,
   "metadata": {},
   "outputs": [],
   "source": []
  },
  {
   "cell_type": "code",
   "execution_count": 4,
   "metadata": {
    "collapsed": true
   },
   "outputs": [],
   "source": [
    "# Extract the columns we need, and split the set (70% training, 30% test)\n",
    "\n",
    "X = poke_data[['attack', 'defense', 'hp', 'sp_attack', 'sp_defense', 'speed']]\n",
    "\n",
    "y = poke_data['is_legendary']\n",
    "\n",
    "X_train, X_test, y_train, y_test = train_test_split(X,y, test_size=0.30, random_state = 420)\n",
    "\n"
   ]
  },
  {
   "cell_type": "code",
   "execution_count": 6,
   "metadata": {},
   "outputs": [
    {
     "name": "stdout",
     "output_type": "stream",
     "text": [
      "Epoch 1/100\n",
      "560/560 [==============================] - 0s 320us/step - loss: 1.3030 - acc: 0.8714\n",
      "Epoch 2/100\n",
      "560/560 [==============================] - 0s 213us/step - loss: 1.4232 - acc: 0.9107\n",
      "Epoch 3/100\n",
      "560/560 [==============================] - 0s 380us/step - loss: 1.4222 - acc: 0.9107\n",
      "Epoch 4/100\n",
      "560/560 [==============================] - 0s 295us/step - loss: 1.4567 - acc: 0.8982\n",
      "Epoch 5/100\n",
      "560/560 [==============================] - 0s 381us/step - loss: 1.4244 - acc: 0.9107\n",
      "Epoch 6/100\n",
      "560/560 [==============================] - 0s 257us/step - loss: 1.4225 - acc: 0.9107\n",
      "Epoch 7/100\n",
      "560/560 [==============================] - 0s 384us/step - loss: 1.2484 - acc: 0.8821\n",
      "Epoch 8/100\n",
      "560/560 [==============================] - 0s 260us/step - loss: 1.3541 - acc: 0.8804\n",
      "Epoch 9/100\n",
      "560/560 [==============================] - 0s 182us/step - loss: 1.3854 - acc: 0.8893\n",
      "Epoch 10/100\n",
      "560/560 [==============================] - 0s 195us/step - loss: 1.4197 - acc: 0.9000\n",
      "Epoch 11/100\n",
      "560/560 [==============================] - 0s 227us/step - loss: 1.4575 - acc: 0.8964\n",
      "Epoch 12/100\n",
      "560/560 [==============================] - 0s 214us/step - loss: 1.4218 - acc: 0.9000\n",
      "Epoch 13/100\n",
      "560/560 [==============================] - 0s 379us/step - loss: 1.4246 - acc: 0.9107\n",
      "Epoch 14/100\n",
      "560/560 [==============================] - 0s 254us/step - loss: 1.4234 - acc: 0.9107\n",
      "Epoch 15/100\n",
      "560/560 [==============================] - 0s 190us/step - loss: 1.3594 - acc: 0.8946\n",
      "Epoch 16/100\n",
      "560/560 [==============================] - 0s 184us/step - loss: 1.4297 - acc: 0.9107\n",
      "Epoch 17/100\n",
      "560/560 [==============================] - 0s 195us/step - loss: 1.4285 - acc: 0.9107\n",
      "Epoch 18/100\n",
      "560/560 [==============================] - 0s 250us/step - loss: 1.4272 - acc: 0.9107\n",
      "Epoch 19/100\n",
      "560/560 [==============================] - 0s 210us/step - loss: 1.4260 - acc: 0.9107\n",
      "Epoch 20/100\n",
      "560/560 [==============================] - 0s 380us/step - loss: 1.4248 - acc: 0.9107\n",
      "Epoch 21/100\n",
      "560/560 [==============================] - 0s 270us/step - loss: 1.4237 - acc: 0.9107\n",
      "Epoch 22/100\n",
      "560/560 [==============================] - 0s 191us/step - loss: 1.4225 - acc: 0.9107\n",
      "Epoch 23/100\n",
      "560/560 [==============================] - 0s 341us/step - loss: 1.3761 - acc: 0.8786\n",
      "Epoch 24/100\n",
      "560/560 [==============================] - 0s 270us/step - loss: 1.4266 - acc: 0.9107\n",
      "Epoch 25/100\n",
      "560/560 [==============================] - 0s 198us/step - loss: 1.4254 - acc: 0.9107\n",
      "Epoch 26/100\n",
      "560/560 [==============================] - 0s 219us/step - loss: 1.4242 - acc: 0.9107\n",
      "Epoch 27/100\n",
      "560/560 [==============================] - 0s 361us/step - loss: 1.4231 - acc: 0.9107\n",
      "Epoch 28/100\n",
      "560/560 [==============================] - 0s 315us/step - loss: 1.4219 - acc: 0.9107\n",
      "Epoch 29/100\n",
      "560/560 [==============================] - 0s 261us/step - loss: 1.4180 - acc: 0.8946\n",
      "Epoch 30/100\n",
      "560/560 [==============================] - 0s 208us/step - loss: 1.4287 - acc: 0.8911\n",
      "Epoch 31/100\n",
      "560/560 [==============================] - 0s 183us/step - loss: 1.2621 - acc: 0.8804\n",
      "Epoch 32/100\n",
      "560/560 [==============================] - 0s 166us/step - loss: 1.4093 - acc: 0.8911\n",
      "Epoch 33/100\n",
      "560/560 [==============================] - 0s 187us/step - loss: 1.4281 - acc: 0.9107\n",
      "Epoch 34/100\n",
      "560/560 [==============================] - 0s 205us/step - loss: 1.4269 - acc: 0.9107\n",
      "Epoch 35/100\n",
      "560/560 [==============================] - 0s 190us/step - loss: 1.4257 - acc: 0.9107\n",
      "Epoch 36/100\n",
      "560/560 [==============================] - 0s 218us/step - loss: 1.4245 - acc: 0.9107\n",
      "Epoch 37/100\n",
      "560/560 [==============================] - 0s 230us/step - loss: 1.4234 - acc: 0.9107\n",
      "Epoch 38/100\n",
      "560/560 [==============================] - 0s 326us/step - loss: 1.4188 - acc: 0.9107\n",
      "Epoch 39/100\n",
      "560/560 [==============================] - 0s 263us/step - loss: 1.3164 - acc: 0.8964\n",
      "Epoch 40/100\n",
      "560/560 [==============================] - 0s 256us/step - loss: 1.4064 - acc: 0.9000\n",
      "Epoch 41/100\n",
      "560/560 [==============================] - 0s 311us/step - loss: 1.3361 - acc: 0.9089 0s - loss: 1.3169 - acc: 0.913\n",
      "Epoch 42/100\n",
      "560/560 [==============================] - 0s 257us/step - loss: 1.4478 - acc: 0.8857\n",
      "Epoch 43/100\n",
      "560/560 [==============================] - 0s 277us/step - loss: 1.4078 - acc: 0.9107\n",
      "Epoch 44/100\n",
      "560/560 [==============================] - 0s 253us/step - loss: 1.4199 - acc: 0.8911\n",
      "Epoch 45/100\n",
      "560/560 [==============================] - 0s 284us/step - loss: 1.4661 - acc: 0.8911\n",
      "Epoch 46/100\n",
      "560/560 [==============================] - 0s 182us/step - loss: 1.4291 - acc: 0.9089\n",
      "Epoch 47/100\n",
      "560/560 [==============================] - 0s 235us/step - loss: 1.4237 - acc: 0.9089\n",
      "Epoch 48/100\n",
      "560/560 [==============================] - 0s 261us/step - loss: 1.4100 - acc: 0.9107\n",
      "Epoch 49/100\n",
      "560/560 [==============================] - 0s 311us/step - loss: 1.4213 - acc: 0.8946\n",
      "Epoch 50/100\n",
      "560/560 [==============================] - 0s 380us/step - loss: 1.4236 - acc: 0.9107\n",
      "Epoch 51/100\n",
      "560/560 [==============================] - 0s 336us/step - loss: 1.4198 - acc: 0.9089\n",
      "Epoch 52/100\n",
      "560/560 [==============================] - 0s 272us/step - loss: 1.3968 - acc: 0.9000\n",
      "Epoch 53/100\n",
      "560/560 [==============================] - 0s 254us/step - loss: 1.4546 - acc: 0.8893\n",
      "Epoch 54/100\n",
      "560/560 [==============================] - 0s 264us/step - loss: 1.3137 - acc: 0.8804\n",
      "Epoch 55/100\n",
      "560/560 [==============================] - 0s 165us/step - loss: 1.4342 - acc: 0.8911\n",
      "Epoch 56/100\n",
      "560/560 [==============================] - 0s 206us/step - loss: 1.4225 - acc: 0.9089\n",
      "Epoch 57/100\n",
      "560/560 [==============================] - 0s 169us/step - loss: 1.3996 - acc: 0.9054\n",
      "Epoch 58/100\n",
      "560/560 [==============================] - 0s 154us/step - loss: 1.5295 - acc: 0.8839\n",
      "Epoch 59/100\n",
      "560/560 [==============================] - 0s 201us/step - loss: 1.3792 - acc: 0.8964\n",
      "Epoch 60/100\n",
      "560/560 [==============================] - 0s 206us/step - loss: 1.2779 - acc: 0.8857\n",
      "Epoch 61/100\n",
      "560/560 [==============================] - 0s 180us/step - loss: 1.3320 - acc: 0.8857\n",
      "Epoch 62/100\n",
      "560/560 [==============================] - 0s 179us/step - loss: 1.4253 - acc: 0.9107\n",
      "Epoch 63/100\n",
      "560/560 [==============================] - 0s 176us/step - loss: 1.3318 - acc: 0.8893\n",
      "Epoch 64/100\n",
      "560/560 [==============================] - 0s 212us/step - loss: 1.4000 - acc: 0.9071\n",
      "Epoch 65/100\n",
      "560/560 [==============================] - 0s 174us/step - loss: 1.3615 - acc: 0.8643\n",
      "Epoch 66/100\n",
      "560/560 [==============================] - 0s 169us/step - loss: 1.4270 - acc: 0.9107\n",
      "Epoch 67/100\n",
      "560/560 [==============================] - 0s 244us/step - loss: 1.4257 - acc: 0.9107\n",
      "Epoch 68/100\n",
      "560/560 [==============================] - 0s 291us/step - loss: 1.3816 - acc: 0.9000\n",
      "Epoch 69/100\n",
      "560/560 [==============================] - 0s 282us/step - loss: 1.3969 - acc: 0.9018\n",
      "Epoch 70/100\n",
      "560/560 [==============================] - 0s 332us/step - loss: 1.3542 - acc: 0.8839\n",
      "Epoch 71/100\n",
      "560/560 [==============================] - 0s 265us/step - loss: 1.4289 - acc: 0.9107\n",
      "Epoch 72/100\n",
      "560/560 [==============================] - 0s 202us/step - loss: 1.4277 - acc: 0.9107\n",
      "Epoch 73/100\n",
      "560/560 [==============================] - 0s 271us/step - loss: 1.4265 - acc: 0.9107\n",
      "Epoch 74/100\n",
      "560/560 [==============================] - 0s 295us/step - loss: 1.4202 - acc: 0.9107\n",
      "Epoch 75/100\n",
      "560/560 [==============================] - 0s 182us/step - loss: 1.3880 - acc: 0.9000\n",
      "Epoch 76/100\n",
      "560/560 [==============================] - 0s 203us/step - loss: 1.3686 - acc: 0.9000\n",
      "Epoch 77/100\n",
      "560/560 [==============================] - 0s 316us/step - loss: 1.3733 - acc: 0.8929\n",
      "Epoch 78/100\n",
      "560/560 [==============================] - 0s 256us/step - loss: 1.5073 - acc: 0.8929\n",
      "Epoch 79/100\n",
      "560/560 [==============================] - 0s 218us/step - loss: 1.4197 - acc: 0.9089\n",
      "Epoch 80/100\n",
      "560/560 [==============================] - 0s 311us/step - loss: 1.4224 - acc: 0.9089\n",
      "Epoch 81/100\n",
      "560/560 [==============================] - 0s 252us/step - loss: 1.4142 - acc: 0.9089\n",
      "Epoch 82/100\n",
      "560/560 [==============================] - 0s 183us/step - loss: 1.4096 - acc: 0.9071\n",
      "Epoch 83/100\n"
     ]
    },
    {
     "name": "stdout",
     "output_type": "stream",
     "text": [
      "560/560 [==============================] - 0s 228us/step - loss: 1.4033 - acc: 0.9107\n",
      "Epoch 84/100\n",
      "560/560 [==============================] - 0s 363us/step - loss: 1.4203 - acc: 0.8911\n",
      "Epoch 85/100\n",
      "560/560 [==============================] - 0s 175us/step - loss: 1.3798 - acc: 0.8964\n",
      "Epoch 86/100\n",
      "560/560 [==============================] - 0s 328us/step - loss: 1.0568 - acc: 0.8679\n",
      "Epoch 87/100\n",
      "560/560 [==============================] - 0s 269us/step - loss: 1.4294 - acc: 0.9107\n",
      "Epoch 88/100\n",
      "560/560 [==============================] - 0s 154us/step - loss: 1.4282 - acc: 0.9107\n",
      "Epoch 89/100\n",
      "560/560 [==============================] - 0s 329us/step - loss: 1.4270 - acc: 0.9107\n",
      "Epoch 90/100\n",
      "560/560 [==============================] - 0s 279us/step - loss: 1.4258 - acc: 0.9107\n",
      "Epoch 91/100\n",
      "560/560 [==============================] - 0s 197us/step - loss: 1.4702 - acc: 0.8857\n",
      "Epoch 92/100\n",
      "560/560 [==============================] - 0s 393us/step - loss: 1.4293 - acc: 0.9107\n",
      "Epoch 93/100\n",
      "560/560 [==============================] - 0s 357us/step - loss: 1.4280 - acc: 0.9107\n",
      "Epoch 94/100\n",
      "560/560 [==============================] - 0s 326us/step - loss: 1.4268 - acc: 0.9107\n",
      "Epoch 95/100\n",
      "560/560 [==============================] - 0s 304us/step - loss: 1.4256 - acc: 0.9107\n",
      "Epoch 96/100\n",
      "560/560 [==============================] - 0s 283us/step - loss: 1.4245 - acc: 0.9107\n",
      "Epoch 97/100\n",
      "560/560 [==============================] - 0s 364us/step - loss: 1.4187 - acc: 0.9107\n",
      "Epoch 98/100\n",
      "560/560 [==============================] - 0s 139us/step - loss: 1.4284 - acc: 0.8964\n",
      "Epoch 99/100\n",
      "560/560 [==============================] - 0s 274us/step - loss: 1.4282 - acc: 0.9107\n",
      "Epoch 100/100\n",
      "560/560 [==============================] - 0s 358us/step - loss: 1.4270 - acc: 0.9107\n"
     ]
    },
    {
     "data": {
      "text/plain": [
       "<keras.callbacks.History at 0x7f7e22f5fe48>"
      ]
     },
     "execution_count": 6,
     "metadata": {},
     "output_type": "execute_result"
    }
   ],
   "source": [
    "# Seed for reproducability\n",
    "seed = 420\n",
    "\n",
    "\n",
    "def create_model():\n",
    "    \n",
    "    # create model\n",
    "    model = Sequential()\n",
    "    \n",
    "    # Add a layer, using sigmoid as the activation function\n",
    "    model.add(Dense(1, input_shape=(6,),kernel_initializer='normal', activation='sigmoid'))\n",
    "    \n",
    "\n",
    "    # Train with stohastic gradient descent with a learning rate of .001\n",
    "    opt = optimizers.SGD(lr=0.001)\n",
    "    model.compile(loss='binary_crossentropy', optimizer=opt, metrics=['accuracy'])\n",
    "    return model\n",
    "\n",
    "\n",
    "\n",
    "# Make the net, train the model\n",
    "net = create_model()\n",
    "net.fit(X_train,y_train,batch_size = 10, epochs=100)"
   ]
  },
  {
   "cell_type": "markdown",
   "metadata": {},
   "source": [
    "Our accuracy seems to converge at around 91.07%, which is pretty good. But the accuracy seems to jump up and down ever so slightly, so we're probably overfitting somewhere.\n",
    "\n",
    "## Cross Validation\n",
    "\n",
    "We can perform stratified k-fold cross validation to evaluation the net's performance on the test set."
   ]
  },
  {
   "cell_type": "code",
   "execution_count": 7,
   "metadata": {},
   "outputs": [
    {
     "name": "stdout",
     "output_type": "stream",
     "text": [
      "Accuracy on the Test Set: 91.28% (1.27%)\n"
     ]
    }
   ],
   "source": [
    "# Cross Validation\n",
    "estimator = KerasClassifier(build_fn=create_model, nb_epoch=100, batch_size=5, verbose=0)\n",
    "kfold = StratifiedKFold(n_splits=10, shuffle=True, random_state=seed)\n",
    "results = cross_val_score(estimator, X_test, y_test, cv=kfold)\n",
    "print(\"Accuracy on the Test Set: %.2f%% (%.2f%%)\" % (results.mean() * 100, results.std() * 100))"
   ]
  },
  {
   "cell_type": "markdown",
   "metadata": {},
   "source": [
    "Yay, relatively similar performance on the test set!"
   ]
  }
 ],
 "metadata": {
  "kernelspec": {
   "display_name": "Python 3",
   "language": "python",
   "name": "python3"
  },
  "language_info": {
   "codemirror_mode": {
    "name": "ipython",
    "version": 3
   },
   "file_extension": ".py",
   "mimetype": "text/x-python",
   "name": "python",
   "nbconvert_exporter": "python",
   "pygments_lexer": "ipython3",
   "version": "3.6.1"
  }
 },
 "nbformat": 4,
 "nbformat_minor": 2
}
